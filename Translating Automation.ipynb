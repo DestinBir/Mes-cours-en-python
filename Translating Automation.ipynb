{
 "cells": [
  {
   "cell_type": "markdown",
   "id": "f24a2e8a",
   "metadata": {},
   "source": [
    "# Translate Library"
   ]
  },
  {
   "cell_type": "code",
   "execution_count": 14,
   "id": "91d46514",
   "metadata": {},
   "outputs": [
    {
     "name": "stdout",
     "output_type": "stream",
     "text": [
      "- Dieu.\n"
     ]
    }
   ],
   "source": [
    "from translate import Translator\n",
    "translator = Translator(from_lang='arabic', to_lang='french')\n",
    "translation = translator.translate(\"الله\")\n",
    "print(translation)"
   ]
  },
  {
   "cell_type": "markdown",
   "id": "56310086",
   "metadata": {},
   "source": [
    "# Textblob library"
   ]
  },
  {
   "cell_type": "code",
   "execution_count": 16,
   "id": "d5d2f2c0",
   "metadata": {},
   "outputs": [
    {
     "name": "stdout",
     "output_type": "stream",
     "text": [
      "Defaulting to user installation because normal site-packages is not writeable\n",
      "Collecting textblob\n",
      "  Using cached textblob-0.17.1-py2.py3-none-any.whl (636 kB)\n",
      "Requirement already satisfied: nltk>=3.1 in c:\\programdata\\anaconda3\\lib\\site-packages (from textblob) (3.7)\n",
      "Requirement already satisfied: click in c:\\programdata\\anaconda3\\lib\\site-packages (from nltk>=3.1->textblob) (8.0.4)\n",
      "Requirement already satisfied: tqdm in c:\\programdata\\anaconda3\\lib\\site-packages (from nltk>=3.1->textblob) (4.64.1)\n",
      "Requirement already satisfied: regex>=2021.8.3 in c:\\programdata\\anaconda3\\lib\\site-packages (from nltk>=3.1->textblob) (2022.7.9)\n",
      "Requirement already satisfied: joblib in c:\\programdata\\anaconda3\\lib\\site-packages (from nltk>=3.1->textblob) (1.1.1)\n",
      "Requirement already satisfied: colorama in c:\\programdata\\anaconda3\\lib\\site-packages (from click->nltk>=3.1->textblob) (0.4.6)\n",
      "Installing collected packages: textblob\n",
      "Successfully installed textblob-0.17.1\n",
      "Note: you may need to restart the kernel to use updated packages.\n"
     ]
    }
   ],
   "source": [
    "pip install textblob"
   ]
  },
  {
   "cell_type": "code",
   "execution_count": null,
   "id": "58854778",
   "metadata": {},
   "outputs": [],
   "source": [
    "from textblob import TextBlob\n",
    "adding_blob = TextBlob(\"I love God more than all\")\n",
    "adding_blob.translate(to='ar')"
   ]
  },
  {
   "cell_type": "code",
   "execution_count": null,
   "id": "b77ae4d2",
   "metadata": {},
   "outputs": [],
   "source": []
  }
 ],
 "metadata": {
  "kernelspec": {
   "display_name": "Python 3 (ipykernel)",
   "language": "python",
   "name": "python3"
  },
  "language_info": {
   "codemirror_mode": {
    "name": "ipython",
    "version": 3
   },
   "file_extension": ".py",
   "mimetype": "text/x-python",
   "name": "python",
   "nbconvert_exporter": "python",
   "pygments_lexer": "ipython3",
   "version": "3.10.9"
  }
 },
 "nbformat": 4,
 "nbformat_minor": 5
}
