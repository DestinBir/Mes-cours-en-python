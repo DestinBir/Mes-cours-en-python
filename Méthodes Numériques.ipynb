{
 "cells": [
  {
   "cell_type": "markdown",
   "id": "e6233aa3",
   "metadata": {},
   "source": [
    "# Cours des Méthodes Numériques\n",
    "## 1. L'interpolation"
   ]
  },
  {
   "cell_type": "markdown",
   "id": "0989596e",
   "metadata": {},
   "source": [
    "### a. L'interpolant de Lagrange"
   ]
  },
  {
   "cell_type": "code",
   "execution_count": 4,
   "id": "9f11f5e2",
   "metadata": {},
   "outputs": [],
   "source": [
    "import numpy as np\n",
    "import matplotlib.pyplot as plt\n",
    "import sympy as sp\n",
    "import math as mt"
   ]
  },
  {
   "cell_type": "code",
   "execution_count": null,
   "id": "d5c33121",
   "metadata": {},
   "outputs": [],
   "source": [
    "def InterpolantLagrange(n, a, b):\n",
    "    x = [0,1,2]\n",
    "    X = np.poly1d([1,0])\n",
    "    # définissez votre equation ici pour trouver les y\n",
    "    def f(xs):\n",
    "        y = []\n",
    "        for x in xs:\n",
    "            y.append(np.exp(x))\n",
    "        return y\n",
    "    # ex. ici nous utilisons e^x\n",
    "    pl = 0\n",
    "    y = [2,1,2]\n",
    "    print('')\n",
    "    plt.plot(x,y)\n",
    "    plt.show()\n",
    "    for i in range(n+1):\n",
    "        li = 1\n",
    "        for j in range(n+1):\n",
    "            if(i!=j):\n",
    "                li = li*(X-x[j])/(x[i]-x[j])\n",
    "                # print(f'==> l{i} = {li}')\n",
    "                \n",
    "            else:\n",
    "                continue\n",
    "        pl=pl+li*y[int(x[i])]\n",
    "        #print(pl)\n",
    "    plt.plot(x,pl)\n",
    "    plt.show()\n",
    "    return pl\n",
    "        "
   ]
  },
  {
   "cell_type": "code",
   "execution_count": null,
   "id": "6c4c7fdf",
   "metadata": {},
   "outputs": [],
   "source": []
  },
  {
   "cell_type": "code",
   "execution_count": null,
   "id": "50272ff4",
   "metadata": {},
   "outputs": [],
   "source": [
    "  "
   ]
  },
  {
   "cell_type": "markdown",
   "id": "05f70009",
   "metadata": {},
   "source": [
    "## Intégration numérique"
   ]
  },
  {
   "cell_type": "code",
   "execution_count": 164,
   "id": "acc19f36",
   "metadata": {},
   "outputs": [],
   "source": [
    "def integration_num(fx, a, b, m):\n",
    "    x = sp.Symbol('x')\n",
    "    inte = sp.integrate(fx, (x, a, b))\n",
    "    sp.Integral(fx, (x, a, b))\n",
    "    print(f\"L'intégrale {sp.Integral(fx, (x, a, b))} vaut {inte}\")\n",
    "    fa = fx.subs(x, a)\n",
    "    fb = fx.subs(x, b)\n",
    "    x0 = 0\n",
    "    h = (b-a)/m\n",
    "    print(\"let's start\")\n",
    "    print(\"1. Formule du point milieu\")\n",
    "    s = 0\n",
    "    for i in range(0, m):\n",
    "        ind = a+(((2*i)+1)/2)*h\n",
    "        # print(fx.subs(x, ind))\n",
    "        s = s+fx.subs(x, ind)\n",
    "    I1 = h*s\n",
    "    Er=I1\n",
    "    print(I1)\n",
    "    print(\"2. Formule du trapèze\")\n",
    "    s = 0\n",
    "    for i in range(1, m):\n",
    "        ind = a+i*h\n",
    "        # print(fx.subs(x, ind))\n",
    "        s = s+fx.subs(x, ind)\n",
    "    I2 = h*(0.5*fa+s+0.5*fb)\n",
    "    Er=I2\n",
    "    print(I2)\n",
    "    print(\"3. Formule de Simpson\")\n",
    "    s = 0\n",
    "    xk = 0\n",
    "    xk1 = 0\n",
    "    xkb = 0\n",
    "    for i in range(1, m):\n",
    "        xk1 = xk\n",
    "        xk = xk+h\n",
    "        xkb = (xk1+xk)/2\n",
    "        s = s+(fx.subs(x, xk1)+4*(fx.subs(x,xkb))+fx.subs(x,xk))\n",
    "    I3 = sp.simplify((h/6)*s)\n",
    "    Er=I3\n",
    "    print(I3)"
   ]
  },
  {
   "cell_type": "code",
   "execution_count": 165,
   "id": "bc88bce8",
   "metadata": {},
   "outputs": [
    {
     "name": "stdout",
     "output_type": "stream",
     "text": [
      "L'intégrale Integral(sin(x), (x, 0, 3.14159265358979)) vaut 2.00000000000000\n",
      "let's start\n",
      "1. Formule du point milieu\n",
      "2.09439510239320\n",
      "2. Formule du trapèze\n",
      "1.81379936423422\n",
      "3. Formule de Simpson\n",
      "1.50064739225515\n"
     ]
    }
   ],
   "source": [
    "sp.init_printing()\n",
    "x = sp.Symbol('x')\n",
    "fx = sp.sin(x)\n",
    "b = mt.pi\n",
    "integration_num(fx, 0, b, 3)"
   ]
  },
  {
   "cell_type": "code",
   "execution_count": 95,
   "id": "cde852c3",
   "metadata": {},
   "outputs": [],
   "source": [
    "def norme(a):\n",
    "    s = 0\n",
    "    for i in range(np.size(a)):\n",
    "        s = s+(a[i]**2)\n",
    "    x = mt.sqrt(s)\n",
    "    return x\n",
    "\n",
    "def Gauss(A, b, xk):\n",
    "    n = np.size(A)\n",
    "    rx = b - np.dot(A,xk)\n",
    "    print(rx)\n",
    "    n_rx = np.linalg.norm(rx)\n",
    "    print(n_rx)\n",
    "    m = 1\n",
    "    while m < 10:\n",
    "        for i in range(0, 4):\n",
    "            s = b[i]\n",
    "                \n",
    "            for j in range(0,4):\n",
    "                #print(j)\n",
    "                if j == i:\n",
    "                    ind = j\n",
    "                else:\n",
    "                    s= s-(A[i,j]*xk[j])\n",
    "            xi = s/A[i,i]\n",
    "            xk[ind] = xi\n",
    "            print(f'x{m},{i+1} = {xi}')\n",
    "        rx = b - np.dot(A,xk)\n",
    "        n_rx = np.linalg.norm(rx)\n",
    "        print(f'x{m} = {xk} et sa norme = {n_rx}')\n",
    "        m = m+1"
   ]
  },
  {
   "cell_type": "code",
   "execution_count": 96,
   "id": "2e13727e",
   "metadata": {},
   "outputs": [
    {
     "name": "stdout",
     "output_type": "stream",
     "text": [
      "[ -4. -22. -23.   4.]\n",
      "32.32645975048923\n",
      "x1,1 = 1.3333333333333333\n",
      "x1,2 = 3.4166666666666665\n",
      "x1,3 = 1.7129629629629628\n",
      "x1,4 = 2.2988683127572016\n",
      "x1 = [1.33333333 3.41666667 1.71296296 2.29886831] et sa norme = 3.1993326714197643\n",
      "x2,1 = 1.7996399176954732\n",
      "x2,2 = 4.50758744855967\n",
      "x2,3 = 3.033679126657521\n",
      "x2,4 = 2.4592327452624088\n",
      "x2 = [1.79963992 4.50758745 3.03367913 2.45923275] et sa norme = 9.804440182464177\n",
      "x3,1 = 1.4227398802265918\n",
      "x3,2 = 4.944780037024335\n",
      "x3,3 = 3.7373580672054842\n",
      "x3,4 = 2.72111327410796\n",
      "x3 = [1.42273988 4.94478004 3.73735807 2.72111327] et sa norme = 7.176665463460695\n",
      "x4,1 = 1.0856910083513898\n",
      "x4,2 = 5.1257921597418425\n",
      "x4,3 = 4.0238761365851\n",
      "x4,4 = 2.8896054847468964\n",
      "x4 = [1.08569101 5.12579216 4.02387614 2.88960548] et sa norme = 3.5845435767354603\n",
      "x5,1 = 0.9185232425812823\n",
      "x5,2 = 5.21696044353501\n",
      "x5,3 = 4.155122175996732\n",
      "x5,4 = 2.9728791385916153\n",
      "x5 = [0.91852324 5.21696044 4.15512218 2.97287914] et sa norme = 1.703005036566301\n",
      "x6,1 = 0.8416528238841628\n",
      "x6,2 = 5.265746203005394\n",
      "x6,3 = 4.223456083515866\n",
      "x6,4 = 3.01314021956847\n",
      "x6 = [0.84165282 5.2657462  4.22345608 3.01314022] et sa norme = 0.8526499259352532\n",
      "x7,1 = 0.8036172494596302\n",
      "x7,2 = 5.291251836016747\n",
      "x7,3 = 4.259555717903713\n",
      "x7,4 = 3.0334921980673846\n",
      "x7 = [0.80361725 5.29125184 4.25955572 3.0334922 ] et sa norme = 0.4407173912808096\n",
      "x8,1 = 0.7838933206867006\n",
      "x8,2 = 5.304318677385417\n",
      "x8,3 = 4.278220694416465\n",
      "x8,4 = 3.0440075266576625\n",
      "x8 = [0.78389332 5.30431868 4.27822069 3.04400753] et sa norme = 0.22785333625353935\n",
      "x9,1 = 0.773658781924742\n",
      "x9,2 = 5.31099249298391\n",
      "x9,3 = 4.287767053671513\n",
      "x9,4 = 3.0494324630032614\n",
      "x9 = [0.77365878 5.31099249 4.28776705 3.04943246] et sa norme = 0.1170456551664261\n"
     ]
    }
   ],
   "source": [
    "A = np.array([[6.0,-2.0,3.0,3.0],[16.0,-8.0,6.0,10.0],[3.0,-13.0,9.0,3.0],[-6.0,4.0,1.0,-18.0]])\n",
    "b = np.array([16.0,26.0,-19.0,-34.0])\n",
    "xk = np.array([2.0,2.0,2.0,2.0])\n",
    "Gauss(A,b,xk)\n",
    "#for i in range(0,4):print(i)\n",
    "#A[0,3]"
   ]
  },
  {
   "cell_type": "code",
   "execution_count": 97,
   "id": "59ba7395",
   "metadata": {},
   "outputs": [
    {
     "name": "stdout",
     "output_type": "stream",
     "text": [
      "Defaulting to user installation because normal site-packages is not writeable\n",
      "Requirement already satisfied: nbconvert in c:\\programdata\\anaconda3\\lib\\site-packages (6.5.4)\n",
      "Requirement already satisfied: lxml in c:\\programdata\\anaconda3\\lib\\site-packages (from nbconvert) (4.9.1)\n",
      "Requirement already satisfied: jupyterlab-pygments in c:\\programdata\\anaconda3\\lib\\site-packages (from nbconvert) (0.1.2)\n",
      "Requirement already satisfied: bleach in c:\\programdata\\anaconda3\\lib\\site-packages (from nbconvert) (4.1.0)\n",
      "Requirement already satisfied: pandocfilters>=1.4.1 in c:\\programdata\\anaconda3\\lib\\site-packages (from nbconvert) (1.5.0)\n",
      "Requirement already satisfied: jinja2>=3.0 in c:\\programdata\\anaconda3\\lib\\site-packages (from nbconvert) (3.1.2)\n",
      "Requirement already satisfied: packaging in c:\\programdata\\anaconda3\\lib\\site-packages (from nbconvert) (22.0)\n",
      "Requirement already satisfied: entrypoints>=0.2.2 in c:\\programdata\\anaconda3\\lib\\site-packages (from nbconvert) (0.4)\n",
      "Requirement already satisfied: mistune<2,>=0.8.1 in c:\\programdata\\anaconda3\\lib\\site-packages (from nbconvert) (0.8.4)\n",
      "Requirement already satisfied: nbformat>=5.1 in c:\\programdata\\anaconda3\\lib\\site-packages (from nbconvert) (5.7.0)\n",
      "Requirement already satisfied: jupyter-core>=4.7 in c:\\programdata\\anaconda3\\lib\\site-packages (from nbconvert) (5.2.0)\n",
      "Requirement already satisfied: pygments>=2.4.1 in c:\\programdata\\anaconda3\\lib\\site-packages (from nbconvert) (2.11.2)\n",
      "Requirement already satisfied: defusedxml in c:\\programdata\\anaconda3\\lib\\site-packages (from nbconvert) (0.7.1)\n",
      "Requirement already satisfied: beautifulsoup4 in c:\\programdata\\anaconda3\\lib\\site-packages (from nbconvert) (4.11.1)\n",
      "Requirement already satisfied: nbclient>=0.5.0 in c:\\programdata\\anaconda3\\lib\\site-packages (from nbconvert) (0.5.13)\n",
      "Requirement already satisfied: traitlets>=5.0 in c:\\programdata\\anaconda3\\lib\\site-packages (from nbconvert) (5.7.1)\n",
      "Requirement already satisfied: MarkupSafe>=2.0 in c:\\programdata\\anaconda3\\lib\\site-packages (from nbconvert) (2.1.1)\n",
      "Requirement already satisfied: tinycss2 in c:\\programdata\\anaconda3\\lib\\site-packages (from nbconvert) (1.2.1)\n",
      "Requirement already satisfied: pywin32>=1.0 in c:\\programdata\\anaconda3\\lib\\site-packages (from jupyter-core>=4.7->nbconvert) (305.1)\n",
      "Requirement already satisfied: platformdirs>=2.5 in c:\\programdata\\anaconda3\\lib\\site-packages (from jupyter-core>=4.7->nbconvert) (2.5.2)\n",
      "Requirement already satisfied: jupyter-client>=6.1.5 in c:\\programdata\\anaconda3\\lib\\site-packages (from nbclient>=0.5.0->nbconvert) (7.3.4)\n",
      "Requirement already satisfied: nest-asyncio in c:\\programdata\\anaconda3\\lib\\site-packages (from nbclient>=0.5.0->nbconvert) (1.5.6)\n",
      "Requirement already satisfied: jsonschema>=2.6 in c:\\programdata\\anaconda3\\lib\\site-packages (from nbformat>=5.1->nbconvert) (4.17.3)\n",
      "Requirement already satisfied: fastjsonschema in c:\\programdata\\anaconda3\\lib\\site-packages (from nbformat>=5.1->nbconvert) (2.16.2)\n",
      "Requirement already satisfied: soupsieve>1.2 in c:\\programdata\\anaconda3\\lib\\site-packages (from beautifulsoup4->nbconvert) (2.3.2.post1)\n",
      "Requirement already satisfied: six>=1.9.0 in c:\\programdata\\anaconda3\\lib\\site-packages (from bleach->nbconvert) (1.16.0)\n",
      "Requirement already satisfied: webencodings in c:\\programdata\\anaconda3\\lib\\site-packages (from bleach->nbconvert) (0.5.1)\n",
      "Requirement already satisfied: pyrsistent!=0.17.0,!=0.17.1,!=0.17.2,>=0.14.0 in c:\\programdata\\anaconda3\\lib\\site-packages (from jsonschema>=2.6->nbformat>=5.1->nbconvert) (0.18.0)\n",
      "Requirement already satisfied: attrs>=17.4.0 in c:\\programdata\\anaconda3\\lib\\site-packages (from jsonschema>=2.6->nbformat>=5.1->nbconvert) (22.1.0)\n",
      "Requirement already satisfied: pyzmq>=23.0 in c:\\programdata\\anaconda3\\lib\\site-packages (from jupyter-client>=6.1.5->nbclient>=0.5.0->nbconvert) (23.2.0)\n",
      "Requirement already satisfied: tornado>=6.0 in c:\\programdata\\anaconda3\\lib\\site-packages (from jupyter-client>=6.1.5->nbclient>=0.5.0->nbconvert) (6.1)\n",
      "Requirement already satisfied: python-dateutil>=2.8.2 in c:\\programdata\\anaconda3\\lib\\site-packages (from jupyter-client>=6.1.5->nbclient>=0.5.0->nbconvert) (2.8.2)\n",
      "Note: you may need to restart the kernel to use updated packages.\n"
     ]
    }
   ],
   "source": [
    "pip install nbconvert"
   ]
  },
  {
   "cell_type": "code",
   "execution_count": 98,
   "id": "9cd681bb",
   "metadata": {},
   "outputs": [
    {
     "name": "stdout",
     "output_type": "stream",
     "text": [
      "Defaulting to user installation because normal site-packages is not writeable\n",
      "Requirement already satisfied: nbconvert[webpdf] in c:\\programdata\\anaconda3\\lib\\site-packages (6.5.4)\n",
      "Requirement already satisfied: tinycss2 in c:\\programdata\\anaconda3\\lib\\site-packages (from nbconvert[webpdf]) (1.2.1)\n",
      "Requirement already satisfied: lxml in c:\\programdata\\anaconda3\\lib\\site-packages (from nbconvert[webpdf]) (4.9.1)\n",
      "Requirement already satisfied: defusedxml in c:\\programdata\\anaconda3\\lib\\site-packages (from nbconvert[webpdf]) (0.7.1)\n",
      "Requirement already satisfied: mistune<2,>=0.8.1 in c:\\programdata\\anaconda3\\lib\\site-packages (from nbconvert[webpdf]) (0.8.4)\n",
      "Requirement already satisfied: nbclient>=0.5.0 in c:\\programdata\\anaconda3\\lib\\site-packages (from nbconvert[webpdf]) (0.5.13)\n",
      "Requirement already satisfied: beautifulsoup4 in c:\\programdata\\anaconda3\\lib\\site-packages (from nbconvert[webpdf]) (4.11.1)\n",
      "Requirement already satisfied: pygments>=2.4.1 in c:\\programdata\\anaconda3\\lib\\site-packages (from nbconvert[webpdf]) (2.11.2)\n",
      "Requirement already satisfied: traitlets>=5.0 in c:\\programdata\\anaconda3\\lib\\site-packages (from nbconvert[webpdf]) (5.7.1)\n",
      "Requirement already satisfied: entrypoints>=0.2.2 in c:\\programdata\\anaconda3\\lib\\site-packages (from nbconvert[webpdf]) (0.4)\n",
      "Requirement already satisfied: jinja2>=3.0 in c:\\programdata\\anaconda3\\lib\\site-packages (from nbconvert[webpdf]) (3.1.2)\n",
      "Requirement already satisfied: MarkupSafe>=2.0 in c:\\programdata\\anaconda3\\lib\\site-packages (from nbconvert[webpdf]) (2.1.1)\n",
      "Requirement already satisfied: packaging in c:\\programdata\\anaconda3\\lib\\site-packages (from nbconvert[webpdf]) (22.0)\n",
      "Requirement already satisfied: jupyterlab-pygments in c:\\programdata\\anaconda3\\lib\\site-packages (from nbconvert[webpdf]) (0.1.2)\n",
      "Requirement already satisfied: bleach in c:\\programdata\\anaconda3\\lib\\site-packages (from nbconvert[webpdf]) (4.1.0)\n",
      "Requirement already satisfied: pandocfilters>=1.4.1 in c:\\programdata\\anaconda3\\lib\\site-packages (from nbconvert[webpdf]) (1.5.0)\n",
      "Requirement already satisfied: jupyter-core>=4.7 in c:\\programdata\\anaconda3\\lib\\site-packages (from nbconvert[webpdf]) (5.2.0)\n",
      "Requirement already satisfied: nbformat>=5.1 in c:\\programdata\\anaconda3\\lib\\site-packages (from nbconvert[webpdf]) (5.7.0)\n",
      "Requirement already satisfied: pyppeteer<1.1,>=1 in c:\\users\\hp\\appdata\\roaming\\python\\python310\\site-packages (from nbconvert[webpdf]) (1.0.2)\n",
      "Requirement already satisfied: platformdirs>=2.5 in c:\\programdata\\anaconda3\\lib\\site-packages (from jupyter-core>=4.7->nbconvert[webpdf]) (2.5.2)\n",
      "Requirement already satisfied: pywin32>=1.0 in c:\\programdata\\anaconda3\\lib\\site-packages (from jupyter-core>=4.7->nbconvert[webpdf]) (305.1)\n",
      "Requirement already satisfied: nest-asyncio in c:\\programdata\\anaconda3\\lib\\site-packages (from nbclient>=0.5.0->nbconvert[webpdf]) (1.5.6)\n",
      "Requirement already satisfied: jupyter-client>=6.1.5 in c:\\programdata\\anaconda3\\lib\\site-packages (from nbclient>=0.5.0->nbconvert[webpdf]) (7.3.4)\n",
      "Requirement already satisfied: fastjsonschema in c:\\programdata\\anaconda3\\lib\\site-packages (from nbformat>=5.1->nbconvert[webpdf]) (2.16.2)\n",
      "Requirement already satisfied: jsonschema>=2.6 in c:\\programdata\\anaconda3\\lib\\site-packages (from nbformat>=5.1->nbconvert[webpdf]) (4.17.3)\n",
      "Requirement already satisfied: appdirs<2.0.0,>=1.4.3 in c:\\programdata\\anaconda3\\lib\\site-packages (from pyppeteer<1.1,>=1->nbconvert[webpdf]) (1.4.4)\n",
      "Requirement already satisfied: pyee<9.0.0,>=8.1.0 in c:\\users\\hp\\appdata\\roaming\\python\\python310\\site-packages (from pyppeteer<1.1,>=1->nbconvert[webpdf]) (8.2.2)\n",
      "Requirement already satisfied: websockets<11.0,>=10.0 in c:\\users\\hp\\appdata\\roaming\\python\\python310\\site-packages (from pyppeteer<1.1,>=1->nbconvert[webpdf]) (10.4)\n",
      "Requirement already satisfied: tqdm<5.0.0,>=4.42.1 in c:\\programdata\\anaconda3\\lib\\site-packages (from pyppeteer<1.1,>=1->nbconvert[webpdf]) (4.64.1)\n",
      "Requirement already satisfied: urllib3<2.0.0,>=1.25.8 in c:\\programdata\\anaconda3\\lib\\site-packages (from pyppeteer<1.1,>=1->nbconvert[webpdf]) (1.26.14)\n",
      "Requirement already satisfied: certifi>=2021 in c:\\programdata\\anaconda3\\lib\\site-packages (from pyppeteer<1.1,>=1->nbconvert[webpdf]) (2022.12.7)\n",
      "Requirement already satisfied: importlib-metadata>=1.4 in c:\\programdata\\anaconda3\\lib\\site-packages (from pyppeteer<1.1,>=1->nbconvert[webpdf]) (4.11.3)\n",
      "Requirement already satisfied: soupsieve>1.2 in c:\\programdata\\anaconda3\\lib\\site-packages (from beautifulsoup4->nbconvert[webpdf]) (2.3.2.post1)\n",
      "Requirement already satisfied: six>=1.9.0 in c:\\programdata\\anaconda3\\lib\\site-packages (from bleach->nbconvert[webpdf]) (1.16.0)\n",
      "Requirement already satisfied: webencodings in c:\\programdata\\anaconda3\\lib\\site-packages (from bleach->nbconvert[webpdf]) (0.5.1)\n",
      "Requirement already satisfied: zipp>=0.5 in c:\\programdata\\anaconda3\\lib\\site-packages (from importlib-metadata>=1.4->pyppeteer<1.1,>=1->nbconvert[webpdf]) (3.11.0)\n",
      "Requirement already satisfied: attrs>=17.4.0 in c:\\programdata\\anaconda3\\lib\\site-packages (from jsonschema>=2.6->nbformat>=5.1->nbconvert[webpdf]) (22.1.0)\n",
      "Requirement already satisfied: pyrsistent!=0.17.0,!=0.17.1,!=0.17.2,>=0.14.0 in c:\\programdata\\anaconda3\\lib\\site-packages (from jsonschema>=2.6->nbformat>=5.1->nbconvert[webpdf]) (0.18.0)\n",
      "Requirement already satisfied: pyzmq>=23.0 in c:\\programdata\\anaconda3\\lib\\site-packages (from jupyter-client>=6.1.5->nbclient>=0.5.0->nbconvert[webpdf]) (23.2.0)\n",
      "Requirement already satisfied: python-dateutil>=2.8.2 in c:\\programdata\\anaconda3\\lib\\site-packages (from jupyter-client>=6.1.5->nbclient>=0.5.0->nbconvert[webpdf]) (2.8.2)\n",
      "Requirement already satisfied: tornado>=6.0 in c:\\programdata\\anaconda3\\lib\\site-packages (from jupyter-client>=6.1.5->nbclient>=0.5.0->nbconvert[webpdf]) (6.1)\n",
      "Requirement already satisfied: colorama in c:\\programdata\\anaconda3\\lib\\site-packages (from tqdm<5.0.0,>=4.42.1->pyppeteer<1.1,>=1->nbconvert[webpdf]) (0.4.6)\n",
      "Note: you may need to restart the kernel to use updated packages.\n"
     ]
    }
   ],
   "source": [
    "pip install nbconvert[webpdf]"
   ]
  },
  {
   "cell_type": "code",
   "execution_count": null,
   "id": "8c031ba8",
   "metadata": {},
   "outputs": [],
   "source": []
  }
 ],
 "metadata": {
  "kernelspec": {
   "display_name": "Python 3 (ipykernel)",
   "language": "python",
   "name": "python3"
  },
  "language_info": {
   "codemirror_mode": {
    "name": "ipython",
    "version": 3
   },
   "file_extension": ".py",
   "mimetype": "text/x-python",
   "name": "python",
   "nbconvert_exporter": "python",
   "pygments_lexer": "ipython3",
   "version": "3.10.9"
  }
 },
 "nbformat": 4,
 "nbformat_minor": 5
}
