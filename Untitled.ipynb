{
 "cells": [
  {
   "cell_type": "code",
   "execution_count": 7,
   "id": "54220313",
   "metadata": {},
   "outputs": [
    {
     "name": "stdout",
     "output_type": "stream",
     "text": [
      "{'Destin': [243895675437, 243978765743], 'Joel': [243845675437, 243966665743], 'Elie': [243845675437, 243966665743], 'Joce': [243811111437, 243988888743]}\n",
      "Entrez le noms pour avoir le numéro: Joce\n",
      "[243895675437, 243978765743]\n"
     ]
    }
   ],
   "source": [
    "data = dict()\n",
    "l1 = [243895675437, 243978765743]\n",
    "l2 = [243845675437, 243966665743]\n",
    "l3 = [243999975437, 243958768853]\n",
    "l4 = [243811111437, 243988888743]\n",
    "data['Destin'] = l1\n",
    "data['Joel'] = l2\n",
    "data['Elie'] = l2\n",
    "data['Joce'] = l4\n",
    "\n",
    "print(data)\n",
    "\n",
    "x = input('Entrez le noms pour avoir le numéro: ')\n",
    "\n",
    "if x == 'Destin':\n",
    "    print(l1)\n",
    "elif x == 'Joel':\n",
    "    print(l2)\n",
    "elif x == 'Elie':\n",
    "    print(l3)\n",
    "elif x == 'Joce':\n",
    "    print(l1)\n",
    "else:\n",
    "    print(\"ce nom n'est pas reconnu\")\n"
   ]
  },
  {
   "cell_type": "markdown",
   "id": "5dccb62b",
   "metadata": {},
   "source": [
    "== != < > <= >=\n",
    "\n",
    "45>0\n",
    "4 == 4\n",
    "4>67\n",
    "\n",
    "if (condition):\n",
    "    action\n",
    "\n",
    "\n",
    "\n",
    "if (condition):\n",
    "    action\n",
    "else:\n",
    "    action\n",
    "    \n",
    "    \n",
    "    \n",
    "if (condition):\n",
    "    action\n",
    "elif (condition):\n",
    "    action\n",
    "elif (condition):\n",
    "    action\n",
    "else:\n",
    "    action\n",
    "    \n",
    " "
   ]
  }
 ],
 "metadata": {
  "kernelspec": {
   "display_name": "Python 3 (ipykernel)",
   "language": "python",
   "name": "python3"
  },
  "language_info": {
   "codemirror_mode": {
    "name": "ipython",
    "version": 3
   },
   "file_extension": ".py",
   "mimetype": "text/x-python",
   "name": "python",
   "nbconvert_exporter": "python",
   "pygments_lexer": "ipython3",
   "version": "3.10.9"
  }
 },
 "nbformat": 4,
 "nbformat_minor": 5
}
