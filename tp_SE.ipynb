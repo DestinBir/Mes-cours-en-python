{
 "cells": [
  {
   "cell_type": "markdown",
   "id": "12c0a43c",
   "metadata": {},
   "source": [
    "FIFO (First In First Out): cet algorithme remplace la partie de mémoire qui a été chargée en premier, c’est-à-dire la plus ancienne. Il est simple à implémenter mais peut conduire à des performances médiocres si les parties les plus anciennes sont encore fréquemment utilisées."
   ]
  },
  {
   "cell_type": "code",
   "execution_count": 1,
   "id": "d3c19af0",
   "metadata": {},
   "outputs": [],
   "source": [
    "def fifo(list1, msize):\n",
    "    memory = []\n",
    "\n",
    "    for page in list1:\n",
    "\n",
    "        if page in memory:\n",
    "            continue\n",
    "\n",
    "        memory.append(page)\n",
    "        memory.pop(0)\n",
    "\n",
    "    return memory"
   ]
  },
  {
   "cell_type": "markdown",
   "id": "44480597",
   "metadata": {},
   "source": [
    "LRU (Least Recently Used): cet algorithme remplace la partie de mémoire qui a été utilisée le moins récemment. Il se base sur le principe de localité temporelle, qui suppose que les parties récemment utilisées ont plus de chances d’être réutilisées. Il nécessite de garder une trace des dates d’accès à chaque partie de mémoire, ce qui peut être coûteux en espace et en temps."
   ]
  },
  {
   "cell_type": "code",
   "execution_count": 2,
   "id": "69ac8f44",
   "metadata": {},
   "outputs": [],
   "source": [
    "def lru(list1, msize):\n",
    "    memory = []\n",
    "    last_used = []\n",
    "    for page in list1:\n",
    "        if page in memory:\n",
    "            last_used[memory.index(page)] = i\n",
    "            continue\n",
    "        memory.append(page)\n",
    "        last_used.append(i)\n",
    "        memory.pop(0)\n",
    "    return memory\n"
   ]
  },
  {
   "cell_type": "markdown",
   "id": "7f5a04c9",
   "metadata": {},
   "source": [
    "Optimal: cet algorithme remplace la partie de mémoire qui ne sera pas utilisée pendant la durée la plus longue. Il est théorique car il nécessite de connaître à l’avance les accès futurs à la mémoire. Il sert de référence pour évaluer l’efficacité des autres algorithmes."
   ]
  },
  {
   "cell_type": "code",
   "execution_count": 3,
   "id": "4a99ee9c",
   "metadata": {},
   "outputs": [],
   "source": [
    "def opt(list1, msize):\n",
    "    memory = []\n",
    "    last_used = []\n",
    "    for page in list1:\n",
    "        if page in memory:\n",
    "            last_used[memory.index(page)] = i\n",
    "            continue\n",
    "    for i in range(len(memory)):\n",
    "        if last_used[i] > last_used[memory.index(page)]:\n",
    "            memory.pop(i)\n",
    "            break\n",
    "    return memory\n"
   ]
  },
  {
   "cell_type": "code",
   "execution_count": null,
   "id": "1408c39a",
   "metadata": {},
   "outputs": [],
   "source": []
  }
 ],
 "metadata": {
  "kernelspec": {
   "display_name": "Python 3 (ipykernel)",
   "language": "python",
   "name": "python3"
  },
  "language_info": {
   "codemirror_mode": {
    "name": "ipython",
    "version": 3
   },
   "file_extension": ".py",
   "mimetype": "text/x-python",
   "name": "python",
   "nbconvert_exporter": "python",
   "pygments_lexer": "ipython3",
   "version": "3.10.9"
  }
 },
 "nbformat": 4,
 "nbformat_minor": 5
}
