{
 "cells": [
  {
   "cell_type": "code",
   "execution_count": 33,
   "id": "024e741d",
   "metadata": {},
   "outputs": [],
   "source": [
    "import numpy as np\n",
    "import sympy as sp\n",
    "x = sp.Symbol('x')\n",
    "z = sp.Symbol('z')\n",
    "y = sp.Symbol('y')"
   ]
  },
  {
   "cell_type": "code",
   "execution_count": 22,
   "id": "b554f414",
   "metadata": {},
   "outputs": [],
   "source": [
    "def prob_total(X, Xa, Y, Ya):\n",
    "    P = (X*Xa)+(Y*Ya)\n",
    "    return P\n",
    "def Thomas_Bayes(X, Xa, Y, Ya):\n",
    "    f = X * Xa\n",
    "    P = (f/(f+(Y*Ya)))\n",
    "    return P"
   ]
  },
  {
   "cell_type": "code",
   "execution_count": 23,
   "id": "93f35b03",
   "metadata": {},
   "outputs": [
    {
     "data": {
      "text/latex": [
       "$\\displaystyle 0.478181818181818$"
      ],
      "text/plain": [
       "0.478181818181818"
      ]
     },
     "execution_count": 23,
     "metadata": {},
     "output_type": "execute_result"
    }
   ],
   "source": [
    "r = prob_total(0.44, x, 0.56, 0.09)\n",
    "r = r - 0.28\n",
    "1-sp.solve(r)[0]"
   ]
  },
  {
   "cell_type": "code",
   "execution_count": 24,
   "id": "9994c473",
   "metadata": {},
   "outputs": [
    {
     "data": {
      "text/plain": [
       "0.72"
      ]
     },
     "execution_count": 24,
     "metadata": {},
     "output_type": "execute_result"
    }
   ],
   "source": [
    "1-0.28"
   ]
  },
  {
   "cell_type": "code",
   "execution_count": 25,
   "id": "3d837af8",
   "metadata": {},
   "outputs": [
    {
     "data": {
      "text/plain": [
       "0.8199948569959142"
      ]
     },
     "execution_count": 25,
     "metadata": {},
     "output_type": "execute_result"
    }
   ],
   "source": [
    "r = Thomas_Bayes(0.44, 0.5218, 0.56, 0.09)\n",
    "r"
   ]
  },
  {
   "cell_type": "code",
   "execution_count": 54,
   "id": "ed22e471",
   "metadata": {},
   "outputs": [],
   "source": [
    "def AllStatDesc(l1, l2):\n",
    "    l1l2 = []\n",
    "    l22 = []\n",
    "    for i in range(len(l1)):\n",
    "        j = l1[i]*l2[i]\n",
    "        k = l2[i]**2\n",
    "        l1l2.append(j)\n",
    "        l22.append(k)\n",
    "    l1l2_m = sum(l1l2)/len(l1)\n",
    "    l22_m = sum(l22)/len(l22)\n",
    "    l1_m = sum(l1)/len(l1)\n",
    "    l2_m2 = (sum(l2)/len(l2))**2\n",
    "    l2_m = sum(l2)/len(l2) \n",
    "    #print(l1l2)\n",
    "    cov = l1l2_m - l2_m\n",
    "    v = l22_m - l2_m2\n",
    "    a = cov/v\n",
    "    b = l1_m - (a*l2_m)\n",
    "    return cov, v, a, b\n",
    "    "
   ]
  },
  {
   "cell_type": "code",
   "execution_count": 55,
   "id": "cf68a812",
   "metadata": {},
   "outputs": [
    {
     "data": {
      "text/plain": [
       "(240.2, 8.25, 29.115151515151513, -117.53333333333333)"
      ]
     },
     "execution_count": 55,
     "metadata": {},
     "output_type": "execute_result"
    }
   ],
   "source": [
    "x=[1,2,3,4,5,6,7,8,9,10]\n",
    "y=[37,38,37,41,44,42,45,46,46,50]\n",
    "AllStatDesc(y,x)"
   ]
  },
  {
   "cell_type": "code",
   "execution_count": null,
   "id": "18d412b5",
   "metadata": {},
   "outputs": [],
   "source": []
  }
 ],
 "metadata": {
  "kernelspec": {
   "display_name": "Python 3 (ipykernel)",
   "language": "python",
   "name": "python3"
  },
  "language_info": {
   "codemirror_mode": {
    "name": "ipython",
    "version": 3
   },
   "file_extension": ".py",
   "mimetype": "text/x-python",
   "name": "python",
   "nbconvert_exporter": "python",
   "pygments_lexer": "ipython3",
   "version": "3.10.9"
  }
 },
 "nbformat": 4,
 "nbformat_minor": 5
}
