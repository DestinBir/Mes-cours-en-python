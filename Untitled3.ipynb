{
 "cells": [
  {
   "cell_type": "code",
   "execution_count": 8,
   "id": "616f0358",
   "metadata": {},
   "outputs": [],
   "source": [
    "#recherche brutale\n",
    "def rechercheBrutale(s, m):\n",
    "    f = False\n",
    "    for mt in s:\n",
    "        if m == mt:\n",
    "            print('trouver')\n",
    "            break\n",
    "            f = True\n",
    "    if not f:\n",
    "        print('not find')"
   ]
  },
  {
   "cell_type": "code",
   "execution_count": 9,
   "id": "6f1df5e9",
   "metadata": {},
   "outputs": [
    {
     "name": "stdout",
     "output_type": "stream",
     "text": [
      "not find\n"
     ]
    }
   ],
   "source": [
    "l = ['destin', 'dulcin', 'delcine', 'deborah']\n",
    "d = 'jojo'\n",
    "rechercheBrutale(l, d)"
   ]
  },
  {
   "cell_type": "code",
   "execution_count": null,
   "id": "8bb713cd",
   "metadata": {},
   "outputs": [],
   "source": [
    "def rechercheDichotomique(s, m):\n",
    "    f = False\n",
    "    x = 1, y = len(s)\n",
    "    while x < y and not f:\n",
    "        z = y/2\n",
    "        if s[z]>m:\n",
    "            y = z\n",
    "        elif s[z]==m:\n",
    "            f = True\n",
    "            print('Find')\n",
    "        else "
   ]
  }
 ],
 "metadata": {
  "kernelspec": {
   "display_name": "Python 3 (ipykernel)",
   "language": "python",
   "name": "python3"
  },
  "language_info": {
   "codemirror_mode": {
    "name": "ipython",
    "version": 3
   },
   "file_extension": ".py",
   "mimetype": "text/x-python",
   "name": "python",
   "nbconvert_exporter": "python",
   "pygments_lexer": "ipython3",
   "version": "3.10.9"
  }
 },
 "nbformat": 4,
 "nbformat_minor": 5
}
