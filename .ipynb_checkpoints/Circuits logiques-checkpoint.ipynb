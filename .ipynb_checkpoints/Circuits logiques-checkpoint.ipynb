{
 "cells": [
  {
   "cell_type": "markdown",
   "id": "9ff75c1d",
   "metadata": {},
   "source": [
    "## 1. Fonctions sur la transformation de base en binaire"
   ]
  },
  {
   "cell_type": "code",
   "execution_count": 44,
   "id": "bc2167a4",
   "metadata": {},
   "outputs": [
    {
     "data": {
      "text/plain": [
       "'00101010'"
      ]
     },
     "execution_count": 44,
     "metadata": {},
     "output_type": "execute_result"
    }
   ],
   "source": [
    "def InBinary(base, x):\n",
    "    l1 = (128,64,32,16,8,4,2,1)\n",
    "    dic1 = {1:'001', 2:'010', 3:'011', 4:'100', 5:'101', 6:'110', 7:'111'}\n",
    "    dic2 = {'1':'0001', '2':'0010', '3':'0011', '4':'0100', '5':'0101', '6':'0110', '7':'0111', '8':'1000', '9':'1001', 'A':'1010', 'B':'1011', 'C':'1100', 'D':'1101', 'E':'1110','F':'1111'}\n",
    "    if base == 'D':\n",
    "        x = int(x)\n",
    "        y = ''\n",
    "        for i in l1:\n",
    "            if x>=i:\n",
    "                x-=i\n",
    "                y+='1'\n",
    "            else:\n",
    "                y+='0'\n",
    "    elif base == 'O':\n",
    "        x = str(x)\n",
    "        l2 = []\n",
    "        y = ''\n",
    "        for i in x:\n",
    "            l2.append(int(i))\n",
    "        for i in l2:\n",
    "            y+=dic1[i]\n",
    "    elif base == 'H':\n",
    "        x = str(x)\n",
    "        l2 = []\n",
    "        y = ''\n",
    "        for i in x:\n",
    "            l2.append(i)\n",
    "        for i in l2:\n",
    "            y+=dic2[i]\n",
    "    \n",
    "    return y\n",
    "        \n",
    "InBinary('H', '2A')"
   ]
  },
  {
   "cell_type": "markdown",
   "id": "38e41d81",
   "metadata": {},
   "source": [
    "## 2. Fonctions sur la transformation de base en décimal"
   ]
  },
  {
   "cell_type": "code",
   "execution_count": 43,
   "id": "ca3e262e",
   "metadata": {},
   "outputs": [
    {
     "data": {
      "text/plain": [
       "42"
      ]
     },
     "execution_count": 43,
     "metadata": {},
     "output_type": "execute_result"
    }
   ],
   "source": [
    "def InDecimal(base, x):\n",
    "    l1 = (128,64,32,16,8,4,2,1)\n",
    "    if base == 'B':\n",
    "        x = str(x)\n",
    "        l2 = []\n",
    "        a = 0\n",
    "        y = 0\n",
    "        for i in x:\n",
    "            l2.append(int(i))\n",
    "        while len(l2) < 8:\n",
    "            l2.insert(0, 0)\n",
    "        for i in l2:\n",
    "            if i == 1:\n",
    "                y += l1[a]\n",
    "            a += 1\n",
    "    elif base == 'O':\n",
    "        temp = InBinary('O', x)\n",
    "        y = InDecimal('B', temp)\n",
    "    elif base == 'H':\n",
    "        temp = InBinary('H', x)\n",
    "        y = InDecimal('B', temp)\n",
    "        \n",
    "    return y\n",
    "        \n",
    "        \n",
    "InDecimal('H', '2A')"
   ]
  },
  {
   "cell_type": "markdown",
   "id": "e580452b",
   "metadata": {},
   "source": [
    "## 3. Fonctions sur la transformation de base en octal"
   ]
  },
  {
   "cell_type": "code",
   "execution_count": null,
   "id": "b5d85435",
   "metadata": {},
   "outputs": [],
   "source": [
    "def InOctal(base, x):\n",
    "    l1 = (128,64,32,16,8,4,2,1)\n",
    "    if base == 'B':\n",
    "        x = str(x)\n",
    "        l2 = []\n",
    "        a = 0\n",
    "        y = 0\n",
    "        for i in x:\n",
    "            l2.append(int(i))\n",
    "        while len(l2) < 8:\n",
    "            l2.insert(0, 0)\n",
    "        for i in l2:\n",
    "            if i == 1:\n",
    "                y += l1[a]\n",
    "            a += 1\n",
    "    elif base == 'O':\n",
    "        temp = InBinary('O', x)\n",
    "        y = InDecimal('B', temp)\n",
    "    elif base == 'H':\n",
    "        temp = InBinary('H', x)\n",
    "        y = InDecimal('B', temp)\n",
    "        \n",
    "    return y\n",
    "        \n",
    "        \n",
    "InDecimal('H', '2A')"
   ]
  }
 ],
 "metadata": {
  "kernelspec": {
   "display_name": "Python 3 (ipykernel)",
   "language": "python",
   "name": "python3"
  },
  "language_info": {
   "codemirror_mode": {
    "name": "ipython",
    "version": 3
   },
   "file_extension": ".py",
   "mimetype": "text/x-python",
   "name": "python",
   "nbconvert_exporter": "python",
   "pygments_lexer": "ipython3",
   "version": "3.10.9"
  }
 },
 "nbformat": 4,
 "nbformat_minor": 5
}
