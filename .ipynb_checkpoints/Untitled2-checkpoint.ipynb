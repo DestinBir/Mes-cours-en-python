{
 "cells": [
  {
   "cell_type": "code",
   "execution_count": 39,
   "id": "bbb98a6e",
   "metadata": {},
   "outputs": [
    {
     "name": "stdout",
     "output_type": "stream",
     "text": [
      "{'destin': 'python', 'benedict': 'flutter', 'decimal': 10}\n",
      "la clé est destin et la valeur est python\n",
      "la clé est benedict et la valeur est flutter\n",
      "la clé est decimal et la valeur est 10\n"
     ]
    }
   ],
   "source": [
    "dic = {'destin':'python', 'benedict':'flutter', 'decimal':10}\n",
    "print(dic)\n",
    "for a in dic.keys():\n",
    "    b = dic[a]\n",
    "    print(f'la clé est {a} et la valeur est {b}')"
   ]
  },
  {
   "cell_type": "code",
   "execution_count": null,
   "id": "95fb7408",
   "metadata": {},
   "outputs": [],
   "source": []
  }
 ],
 "metadata": {
  "kernelspec": {
   "display_name": "Python 3 (ipykernel)",
   "language": "python",
   "name": "python3"
  },
  "language_info": {
   "codemirror_mode": {
    "name": "ipython",
    "version": 3
   },
   "file_extension": ".py",
   "mimetype": "text/x-python",
   "name": "python",
   "nbconvert_exporter": "python",
   "pygments_lexer": "ipython3",
   "version": "3.10.9"
  }
 },
 "nbformat": 4,
 "nbformat_minor": 5
}
