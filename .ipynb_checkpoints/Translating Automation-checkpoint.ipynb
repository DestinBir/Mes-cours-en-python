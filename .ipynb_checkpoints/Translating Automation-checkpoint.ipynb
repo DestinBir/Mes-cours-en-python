{
 "cells": [
  {
   "cell_type": "markdown",
   "id": "f7eb6a94",
   "metadata": {},
   "source": [
    "# Translate Library"
   ]
  },
  {
   "cell_type": "code",
   "execution_count": 14,
   "id": "03766342",
   "metadata": {},
   "outputs": [
    {
     "name": "stdout",
     "output_type": "stream",
     "text": [
      "- Dieu.\n"
     ]
    }
   ],
   "source": [
    "from translate import Translator\n",
    "translator = Translator(from_lang='arabic', to_lang='french')\n",
    "translation = translator.translate(\"الله\")\n",
    "print(translation)"
   ]
  },
  {
   "cell_type": "markdown",
   "id": "e67cd263",
   "metadata": {},
   "source": [
    "# Textblob library"
   ]
  },
  {
   "cell_type": "code",
   "execution_count": null,
   "id": "bcae8a23",
   "metadata": {},
   "outputs": [],
   "source": [
    "from textblob import TextBlob\n",
    "adding_blob = TextBlob(\"I love God more than all\")\n",
    "adding_blob.translate(to='ar')"
   ]
  }
 ],
 "metadata": {
  "kernelspec": {
   "display_name": "Python 3 (ipykernel)",
   "language": "python",
   "name": "python3"
  },
  "language_info": {
   "codemirror_mode": {
    "name": "ipython",
    "version": 3
   },
   "file_extension": ".py",
   "mimetype": "text/x-python",
   "name": "python",
   "nbconvert_exporter": "python",
   "pygments_lexer": "ipython3",
   "version": "3.10.9"
  }
 },
 "nbformat": 4,
 "nbformat_minor": 5
}
